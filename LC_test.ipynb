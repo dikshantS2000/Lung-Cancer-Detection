{
 "cells": [
  {
   "cell_type": "code",
   "execution_count": 5,
   "metadata": {},
   "outputs": [
    {
     "name": "stdout",
     "output_type": "stream",
     "text": [
      "1/1 [==============================] - 0s 41ms/step\n",
      "Prediction: LUNG CANCER\n",
      "Prediction probability: 0.9997\n"
     ]
    },
    {
     "name": "stderr",
     "output_type": "stream",
     "text": [
      "c:\\Users\\dipak\\AppData\\Local\\Programs\\Python\\Python39\\lib\\site-packages\\sklearn\\utils\\validation.py:2739: UserWarning: X does not have valid feature names, but StandardScaler was fitted with feature names\n",
      "  warnings.warn(\n"
     ]
    }
   ],
   "source": [
    "import numpy as np\n",
    "import pandas as pd\n",
    "from sklearn.preprocessing import StandardScaler\n",
    "from tensorflow.keras.models import load_model\n",
    "import joblib\n",
    "\n",
    "# Load model\n",
    "model = load_model(\"lung_cancer_model.keras\")\n",
    "\n",
    "# Example: Custom input (must be scaled like training data)\n",
    "custom_raw = np.array([[1, 65, 1, 1, 0, 0, 0, 1, 0, 1, 1, 1, 0, 1, 1]])  # shape (1, 15)\n",
    "custom_scaled = scaler.transform(custom_raw)\n",
    "\n",
    "# Predict\n",
    "pred_prob = model.predict(custom_scaled)\n",
    "pred_class = (pred_prob > 0.5).astype(int)\n",
    "\n",
    "print(\"Prediction:\", \"LUNG CANCER\" if pred_class[0][0] == 1 else \"NO LUNG CANCER\")\n",
    "print(f\"Prediction probability: {pred_prob[0][0]:.4f}\")\n",
    "\n"
   ]
  },
  {
   "cell_type": "code",
   "execution_count": 9,
   "metadata": {},
   "outputs": [
    {
     "name": "stdout",
     "output_type": "stream",
     "text": [
      "1/1 [==============================] - 0s 55ms/step\n",
      "✅  Lung Cancer Unlikely (Negative)\n",
      "Prediction Confidence: 0.1023\n"
     ]
    }
   ],
   "source": [
    "import numpy as np\n",
    "import pandas as pd\n",
    "from sklearn.preprocessing import StandardScaler\n",
    "from tensorflow.keras.models import load_model\n",
    "import joblib\n",
    "import os\n",
    "os.environ['TF_CPP_MIN_LOG_LEVEL'] = '2'\n",
    "\n",
    "\n",
    "# ---- Load model and scaler ----\n",
    "model = load_model(\"lung_cancer_model.keras\")\n",
    "\n",
    "# If you saved your scaler earlier using joblib:\n",
    "# scaler = joblib.load(\"scaler.save\")\n",
    "# Or re-fit on the full dataset (not recommended for real prediction)\n",
    "\n",
    "# Example: Define input column names in order\n",
    "columns = [\n",
    "    \"GENDER\", \"AGE\", \"SMOKING\", \"YELLOW_FINGERS\", \"ANXIETY\", \"PEER_PRESSURE\", \n",
    "    \"CHRONIC DISEASE\", \"FATIGUE\", \"ALLERGY\", \"WHEEZING\", \"ALCOHOL CONSUMING\", \n",
    "    \"COUGHING\", \"SHORTNESS OF BREATH\", \"SWALLOWING DIFFICULTY\", \"CHEST PAIN\"\n",
    "]\n",
    "\n",
    "# Example custom input (change these values as needed)\n",
    "# Make sure to match the column order and data types\n",
    "custom_data = pd.DataFrame([[\n",
    "    \"M\", 65, \"YES\", \"NO\", \"YES\", \"NO\", \"NO\", \"YES\", \"NO\", \"YES\", \"NO\",\n",
    "    \"YES\", \"YES\", \"NO\", \"YES\"\n",
    "]], columns=columns)\n",
    "\n",
    "# ---- Encode categorical features the same way as training ----\n",
    "from sklearn.preprocessing import LabelEncoder\n",
    "\n",
    "# Reuse the same label encoders for categorical columns\n",
    "for col in custom_data.columns:\n",
    "    if custom_data[col].dtype == 'object':\n",
    "        le = LabelEncoder()\n",
    "        custom_data[col] = le.fit_transform(custom_data[col])\n",
    "\n",
    "# ---- Scale input ----\n",
    "scaler = StandardScaler()\n",
    "# Ideally, use the same scaler from training (you can save it with joblib)\n",
    "custom_data_scaled = scaler.fit_transform(custom_data)  # Replace with .transform() if using saved scaler\n",
    "\n",
    "# ---- Predict ----\n",
    "prediction = model.predict(custom_data_scaled)[0][0]\n",
    "\n",
    "# ---- Output Result ----\n",
    "if prediction >= 0.5:\n",
    "    print(\"⚠️  Lung Cancer Likely (Positive)\")\n",
    "else:\n",
    "    print(\"✅  Lung Cancer Unlikely (Negative)\")\n",
    "\n",
    "print(f\"Prediction Confidence: {prediction:.4f}\")\n",
    "\n"
   ]
  },
  {
   "cell_type": "code",
   "execution_count": null,
   "metadata": {},
   "outputs": [],
   "source": []
  }
 ],
 "metadata": {
  "kernelspec": {
   "display_name": "Python 3",
   "language": "python",
   "name": "python3"
  },
  "language_info": {
   "codemirror_mode": {
    "name": "ipython",
    "version": 3
   },
   "file_extension": ".py",
   "mimetype": "text/x-python",
   "name": "python",
   "nbconvert_exporter": "python",
   "pygments_lexer": "ipython3",
   "version": "3.9.1"
  },
  "orig_nbformat": 4
 },
 "nbformat": 4,
 "nbformat_minor": 2
}
