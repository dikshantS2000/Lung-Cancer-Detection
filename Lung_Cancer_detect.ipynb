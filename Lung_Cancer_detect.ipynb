{
 "cells": [
  {
   "cell_type": "code",
   "execution_count": null,
   "metadata": {},
   "outputs": [],
   "source": [
    "!pip install tensorflow==2.11.0 protobuf==3.19.6 numpy==1.23.5\n"
   ]
  },
  {
   "cell_type": "code",
   "execution_count": 8,
   "metadata": {},
   "outputs": [],
   "source": [
    "import pandas as pd\n",
    "import numpy as np\n",
    "from sklearn.model_selection import train_test_split\n",
    "from sklearn.preprocessing import StandardScaler, LabelEncoder\n",
    "from tensorflow.keras.models import Sequential\n",
    "from tensorflow.keras.layers import Dense, Dropout\n",
    "from tensorflow.keras.callbacks import EarlyStopping\n",
    "from tensorflow.keras.models import load_model"
   ]
  },
  {
   "cell_type": "code",
   "execution_count": 9,
   "metadata": {},
   "outputs": [],
   "source": [
    "# 1. Load and preprocess data\n",
    "df = pd.read_csv(\"lungCancerDataset_balanced.csv\")"
   ]
  },
  {
   "cell_type": "code",
   "execution_count": 10,
   "metadata": {},
   "outputs": [],
   "source": [
    "\n",
    "# Encode target\n",
    "df['LUNG_CANCER'] = df['LUNG_CANCER'].map({'YES': 1, 'NO': 0})\n",
    "\n",
    "# Encode any non-numeric features\n",
    "for col in df.columns:\n",
    "    if df[col].dtype == 'object':\n",
    "        le = LabelEncoder()\n",
    "        df[col] = le.fit_transform(df[col])\n",
    "\n",
    "# Split features and target\n",
    "X = df.drop(\"LUNG_CANCER\", axis=1)\n",
    "y = df[\"LUNG_CANCER\"]\n",
    "\n",
    "# Split dataset\n",
    "X_train, X_test, y_train, y_test = train_test_split(X, y, test_size=0.2, random_state=42)"
   ]
  },
  {
   "cell_type": "code",
   "execution_count": 11,
   "metadata": {},
   "outputs": [],
   "source": [
    "# Scale features\n",
    "scaler = StandardScaler()\n",
    "X_train_scaled = scaler.fit_transform(X_train)\n",
    "X_test_scaled = scaler.transform(X_test)\n"
   ]
  },
  {
   "cell_type": "code",
   "execution_count": 12,
   "metadata": {},
   "outputs": [
    {
     "name": "stdout",
     "output_type": "stream",
     "text": [
      "Epoch 1/100\n",
      "22/22 [==============================] - 1s 10ms/step - loss: 0.6901 - accuracy: 0.5745 - val_loss: 0.6081 - val_accuracy: 0.7225\n",
      "Epoch 2/100\n",
      "22/22 [==============================] - 0s 3ms/step - loss: 0.6161 - accuracy: 0.6889 - val_loss: 0.5344 - val_accuracy: 0.7746\n",
      "Epoch 3/100\n",
      "22/22 [==============================] - 0s 4ms/step - loss: 0.5599 - accuracy: 0.7670 - val_loss: 0.4771 - val_accuracy: 0.8092\n",
      "Epoch 4/100\n",
      "22/22 [==============================] - 0s 3ms/step - loss: 0.4976 - accuracy: 0.8017 - val_loss: 0.4367 - val_accuracy: 0.8266\n",
      "Epoch 5/100\n",
      "22/22 [==============================] - 0s 4ms/step - loss: 0.4736 - accuracy: 0.8177 - val_loss: 0.4036 - val_accuracy: 0.8266\n",
      "Epoch 6/100\n",
      "22/22 [==============================] - 0s 2ms/step - loss: 0.4308 - accuracy: 0.8278 - val_loss: 0.3727 - val_accuracy: 0.8555\n",
      "Epoch 7/100\n",
      "22/22 [==============================] - 0s 2ms/step - loss: 0.4028 - accuracy: 0.8423 - val_loss: 0.3511 - val_accuracy: 0.8728\n",
      "Epoch 8/100\n",
      "22/22 [==============================] - 0s 3ms/step - loss: 0.3975 - accuracy: 0.8379 - val_loss: 0.3385 - val_accuracy: 0.8728\n",
      "Epoch 9/100\n",
      "22/22 [==============================] - 0s 3ms/step - loss: 0.3466 - accuracy: 0.8683 - val_loss: 0.3192 - val_accuracy: 0.8844\n",
      "Epoch 10/100\n",
      "22/22 [==============================] - 0s 3ms/step - loss: 0.3530 - accuracy: 0.8741 - val_loss: 0.3065 - val_accuracy: 0.8786\n",
      "Epoch 11/100\n",
      "22/22 [==============================] - 0s 3ms/step - loss: 0.3249 - accuracy: 0.8698 - val_loss: 0.2950 - val_accuracy: 0.9017\n",
      "Epoch 12/100\n",
      "22/22 [==============================] - 0s 3ms/step - loss: 0.3261 - accuracy: 0.8915 - val_loss: 0.2829 - val_accuracy: 0.9249\n",
      "Epoch 13/100\n",
      "22/22 [==============================] - 0s 4ms/step - loss: 0.3106 - accuracy: 0.8813 - val_loss: 0.2733 - val_accuracy: 0.9075\n",
      "Epoch 14/100\n",
      "22/22 [==============================] - 0s 3ms/step - loss: 0.3019 - accuracy: 0.9001 - val_loss: 0.2657 - val_accuracy: 0.9075\n",
      "Epoch 15/100\n",
      "22/22 [==============================] - 0s 3ms/step - loss: 0.2921 - accuracy: 0.8958 - val_loss: 0.2593 - val_accuracy: 0.9017\n",
      "Epoch 16/100\n",
      "22/22 [==============================] - 0s 3ms/step - loss: 0.2558 - accuracy: 0.9088 - val_loss: 0.2552 - val_accuracy: 0.9133\n",
      "Epoch 17/100\n",
      "22/22 [==============================] - 0s 3ms/step - loss: 0.2737 - accuracy: 0.8987 - val_loss: 0.2480 - val_accuracy: 0.9133\n",
      "Epoch 18/100\n",
      "22/22 [==============================] - 0s 3ms/step - loss: 0.2563 - accuracy: 0.9204 - val_loss: 0.2481 - val_accuracy: 0.9075\n",
      "Epoch 19/100\n",
      "22/22 [==============================] - 0s 2ms/step - loss: 0.2287 - accuracy: 0.9146 - val_loss: 0.2493 - val_accuracy: 0.9075\n",
      "Epoch 20/100\n",
      "22/22 [==============================] - 0s 3ms/step - loss: 0.2268 - accuracy: 0.9204 - val_loss: 0.2423 - val_accuracy: 0.9075\n",
      "Epoch 21/100\n",
      "22/22 [==============================] - 0s 3ms/step - loss: 0.2093 - accuracy: 0.9247 - val_loss: 0.2401 - val_accuracy: 0.9191\n",
      "Epoch 22/100\n",
      "22/22 [==============================] - 0s 3ms/step - loss: 0.2255 - accuracy: 0.9219 - val_loss: 0.2374 - val_accuracy: 0.9191\n",
      "Epoch 23/100\n",
      "22/22 [==============================] - 0s 2ms/step - loss: 0.2229 - accuracy: 0.9247 - val_loss: 0.2409 - val_accuracy: 0.9075\n",
      "Epoch 24/100\n",
      "22/22 [==============================] - 0s 2ms/step - loss: 0.2009 - accuracy: 0.9219 - val_loss: 0.2375 - val_accuracy: 0.9075\n",
      "Epoch 25/100\n",
      "22/22 [==============================] - 0s 3ms/step - loss: 0.2038 - accuracy: 0.9276 - val_loss: 0.2358 - val_accuracy: 0.9249\n",
      "Epoch 26/100\n",
      "22/22 [==============================] - 0s 2ms/step - loss: 0.1906 - accuracy: 0.9334 - val_loss: 0.2319 - val_accuracy: 0.9191\n",
      "Epoch 27/100\n",
      "22/22 [==============================] - 0s 3ms/step - loss: 0.1931 - accuracy: 0.9349 - val_loss: 0.2321 - val_accuracy: 0.9249\n",
      "Epoch 28/100\n",
      "22/22 [==============================] - 0s 2ms/step - loss: 0.1740 - accuracy: 0.9407 - val_loss: 0.2288 - val_accuracy: 0.9249\n",
      "Epoch 29/100\n",
      "22/22 [==============================] - 0s 2ms/step - loss: 0.1811 - accuracy: 0.9320 - val_loss: 0.2262 - val_accuracy: 0.9249\n",
      "Epoch 30/100\n",
      "22/22 [==============================] - 0s 2ms/step - loss: 0.2015 - accuracy: 0.9132 - val_loss: 0.2263 - val_accuracy: 0.9306\n",
      "Epoch 31/100\n",
      "22/22 [==============================] - 0s 2ms/step - loss: 0.1763 - accuracy: 0.9378 - val_loss: 0.2227 - val_accuracy: 0.9249\n",
      "Epoch 32/100\n",
      "22/22 [==============================] - 0s 3ms/step - loss: 0.1656 - accuracy: 0.9479 - val_loss: 0.2218 - val_accuracy: 0.9249\n",
      "Epoch 33/100\n",
      "22/22 [==============================] - 0s 2ms/step - loss: 0.1720 - accuracy: 0.9349 - val_loss: 0.2202 - val_accuracy: 0.9249\n",
      "Epoch 34/100\n",
      "22/22 [==============================] - 0s 2ms/step - loss: 0.1506 - accuracy: 0.9551 - val_loss: 0.2127 - val_accuracy: 0.9249\n",
      "Epoch 35/100\n",
      "22/22 [==============================] - 0s 3ms/step - loss: 0.1642 - accuracy: 0.9465 - val_loss: 0.2077 - val_accuracy: 0.9249\n",
      "Epoch 36/100\n",
      "22/22 [==============================] - 0s 2ms/step - loss: 0.1476 - accuracy: 0.9493 - val_loss: 0.2079 - val_accuracy: 0.9249\n",
      "Epoch 37/100\n",
      "22/22 [==============================] - 0s 2ms/step - loss: 0.1594 - accuracy: 0.9522 - val_loss: 0.2099 - val_accuracy: 0.9306\n",
      "Epoch 38/100\n",
      "22/22 [==============================] - 0s 3ms/step - loss: 0.1455 - accuracy: 0.9508 - val_loss: 0.2149 - val_accuracy: 0.9249\n",
      "Epoch 39/100\n",
      "22/22 [==============================] - 0s 2ms/step - loss: 0.1498 - accuracy: 0.9479 - val_loss: 0.2147 - val_accuracy: 0.9249\n",
      "Epoch 40/100\n",
      "22/22 [==============================] - 0s 3ms/step - loss: 0.1471 - accuracy: 0.9421 - val_loss: 0.2101 - val_accuracy: 0.9306\n"
     ]
    },
    {
     "data": {
      "text/plain": [
       "<keras.callbacks.History at 0x28cd611be80>"
      ]
     },
     "execution_count": 12,
     "metadata": {},
     "output_type": "execute_result"
    }
   ],
   "source": [
    "# Build the model\n",
    "model = Sequential([\n",
    "    Dense(64, activation='relu', input_shape=(X_train_scaled.shape[1],)),\n",
    "    Dropout(0.3),\n",
    "    Dense(32, activation='relu'),\n",
    "    Dropout(0.2),\n",
    "    Dense(1, activation='sigmoid')  # Binary classification\n",
    "])\n",
    "\n",
    "model.compile(optimizer='adam', loss='binary_crossentropy', metrics=['accuracy'])\n",
    "\n",
    "# Fine-tuning with early stopping\n",
    "early_stop = EarlyStopping(monitor='val_loss', patience=5, restore_best_weights=True)\n",
    "\n",
    "model.fit(\n",
    "    X_train_scaled, y_train,\n",
    "    epochs=100,\n",
    "    batch_size=32,\n",
    "    validation_split=0.2,\n",
    "    callbacks=[early_stop],\n",
    "    verbose=1\n",
    ")"
   ]
  },
  {
   "cell_type": "code",
   "execution_count": 13,
   "metadata": {},
   "outputs": [
    {
     "name": "stdout",
     "output_type": "stream",
     "text": [
      "7/7 [==============================] - 0s 1ms/step - loss: 0.2071 - accuracy: 0.9259\n",
      "Test Accuracy: 0.9259\n"
     ]
    }
   ],
   "source": [
    "# Evaluate\n",
    "loss, acc = model.evaluate(X_test_scaled, y_test)\n",
    "print(f\"Test Accuracy: {acc:.4f}\")\n",
    "\n",
    "# Save the model\n",
    "model.save(\"lung_cancer_model.keras\")"
   ]
  },
  {
   "cell_type": "code",
   "execution_count": null,
   "metadata": {},
   "outputs": [],
   "source": []
  }
 ],
 "metadata": {
  "kernelspec": {
   "display_name": "Python 3",
   "language": "python",
   "name": "python3"
  },
  "language_info": {
   "codemirror_mode": {
    "name": "ipython",
    "version": 3
   },
   "file_extension": ".py",
   "mimetype": "text/x-python",
   "name": "python",
   "nbconvert_exporter": "python",
   "pygments_lexer": "ipython3",
   "version": "3.9.1"
  },
  "orig_nbformat": 4
 },
 "nbformat": 4,
 "nbformat_minor": 2
}
